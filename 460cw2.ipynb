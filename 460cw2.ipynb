{
  "nbformat": 4,
  "nbformat_minor": 0,
  "metadata": {
    "colab": {
      "name": "460cw2.ipynb",
      "version": "0.3.2",
      "provenance": [],
      "collapsed_sections": [],
      "include_colab_link": true
    },
    "kernelspec": {
      "name": "python3",
      "display_name": "Python 3"
    },
    "accelerator": "GPU"
  },
  "cells": [
    {
      "cell_type": "markdown",
      "metadata": {
        "id": "view-in-github",
        "colab_type": "text"
      },
      "source": [
        "<a href=\"https://colab.research.google.com/github/FloraQin0325/deep_learning_CW2/blob/master/460cw2.ipynb\" target=\"_parent\"><img src=\"https://colab.research.google.com/assets/colab-badge.svg\" alt=\"Open In Colab\"/></a>"
      ]
    },
    {
      "metadata": {
        "id": "hhWTreQs-xXj",
        "colab_type": "text"
      },
      "cell_type": "markdown",
      "source": [
        "# Coursework2: Convolutional Neural Networks "
      ]
    },
    {
      "metadata": {
        "id": "L8jbPFKH-xXl",
        "colab_type": "text"
      },
      "cell_type": "markdown",
      "source": [
        "## instructions"
      ]
    },
    {
      "metadata": {
        "id": "qPZgBFOP-xXl",
        "colab_type": "text"
      },
      "cell_type": "markdown",
      "source": [
        "Please submit a version of this notebook containing your answers **together with your trained model** on CATe as CW2.zip. Write your answers in the cells below each question.\n",
        "\n",
        "A PDF version of this notebook is also provided in case the figures do not render correctly.\n",
        "\n",
        "**The deadline for submission is 19:00, Thu 14th February, 2019**"
      ]
    },
    {
      "metadata": {
        "id": "pMhnUXP6-xXm",
        "colab_type": "text"
      },
      "cell_type": "markdown",
      "source": [
        "### Setting up working environment "
      ]
    },
    {
      "metadata": {
        "id": "NKv8ORrK-xXn",
        "colab_type": "text"
      },
      "cell_type": "markdown",
      "source": [
        "For this coursework you will need to train a large network, therefore we recommend you work with Google Colaboratory, which provides free GPU time. You will need a Google account to do so. \n",
        "\n",
        "Please log in to your account and go to the following page: https://colab.research.google.com. Then upload this notebook.\n",
        "\n",
        "For GPU support, go to \"Edit\" -> \"Notebook Settings\", and select \"Hardware accelerator\" as \"GPU\".\n",
        "\n",
        "You will need to install pytorch by running the following cell:"
      ]
    },
    {
      "metadata": {
        "id": "jzy7zWIMdbGM",
        "colab_type": "code",
        "colab": {}
      },
      "cell_type": "code",
      "source": [
        ""
      ],
      "execution_count": 0,
      "outputs": []
    },
    {
      "metadata": {
        "id": "acjo8JP9-xXo",
        "colab_type": "code",
        "outputId": "e82b5ca2-25d2-4e24-d1d1-76e641b68b87",
        "colab": {
          "base_uri": "https://localhost:8080/",
          "height": 338
        }
      },
      "cell_type": "code",
      "source": [
        "!pip install torch torchvision"
      ],
      "execution_count": 1,
      "outputs": [
        {
          "output_type": "stream",
          "text": [
            "Requirement already satisfied: torch in /usr/local/lib/python3.6/dist-packages (1.0.0)\n",
            "Requirement already satisfied: torchvision in /usr/local/lib/python3.6/dist-packages (0.2.1)\n",
            "Requirement already satisfied: numpy in /usr/local/lib/python3.6/dist-packages (from torchvision) (1.14.6)\n",
            "Collecting pillow>=4.1.1 (from torchvision)\n",
            "\u001b[?25l  Downloading https://files.pythonhosted.org/packages/85/5e/e91792f198bbc5a0d7d3055ad552bc4062942d27eaf75c3e2783cf64eae5/Pillow-5.4.1-cp36-cp36m-manylinux1_x86_64.whl (2.0MB)\n",
            "\u001b[K    100% |████████████████████████████████| 2.0MB 2.2MB/s \n",
            "\u001b[?25hRequirement already satisfied: six in /usr/local/lib/python3.6/dist-packages (from torchvision) (1.11.0)\n",
            "Installing collected packages: pillow\n",
            "  Found existing installation: Pillow 4.0.0\n",
            "    Uninstalling Pillow-4.0.0:\n",
            "      Successfully uninstalled Pillow-4.0.0\n",
            "Successfully installed pillow-5.4.1\n"
          ],
          "name": "stdout"
        },
        {
          "output_type": "display_data",
          "data": {
            "application/vnd.colab-display-data+json": {
              "pip_warning": {
                "packages": [
                  "PIL"
                ]
              }
            }
          },
          "metadata": {
            "tags": []
          }
        }
      ]
    },
    {
      "metadata": {
        "id": "huJrqKTm-xXs",
        "colab_type": "text"
      },
      "cell_type": "markdown",
      "source": [
        "## Introduction"
      ]
    },
    {
      "metadata": {
        "id": "YGcE1qLU-xXs",
        "colab_type": "text"
      },
      "cell_type": "markdown",
      "source": [
        "For this coursework you will implement one of the most commonly used model for image recognition tasks, the Residual Network. The architecture is introduced in 2015 by Kaiming He, et al. in the paper [\"Deep residual learning for image recognition\"](https://www.cv-foundation.org/openaccess/content_cvpr_2016/papers/He_Deep_Residual_Learning_CVPR_2016_paper.pdf). \n",
        "<br>\n",
        "\n",
        "In a residual network, each block contains some convolutional layers, plus \"skip\" connections, which allow the activations to by pass a layer, and then be summed up with the activations of the skipped layer. The image below illustrates a building block in residual networks."
      ]
    },
    {
      "metadata": {
        "id": "1MN79WiC-xXt",
        "colab_type": "text"
      },
      "cell_type": "markdown",
      "source": [
        "![resnet-block](utils/resnet-block.png)"
      ]
    },
    {
      "metadata": {
        "id": "d0LU5fjr-xXv",
        "colab_type": "text"
      },
      "cell_type": "markdown",
      "source": [
        "Depending on the number of building blocks, resnets can have different architectures, for example ResNet-50, ResNet-101 and etc. Here you are required to build ResNet-18 to perform classification on the CIFAR-10 dataset, therefore your network will have the following architecture:"
      ]
    },
    {
      "metadata": {
        "id": "1Njp58a6-xXw",
        "colab_type": "text"
      },
      "cell_type": "markdown",
      "source": [
        "![resnet](utils/resnet.png)"
      ]
    },
    {
      "metadata": {
        "id": "rg8EUXKS-xXx",
        "colab_type": "text"
      },
      "cell_type": "markdown",
      "source": [
        "## Part 1 (40 points)"
      ]
    },
    {
      "metadata": {
        "id": "MCi7SU5h-xXx",
        "colab_type": "text"
      },
      "cell_type": "markdown",
      "source": [
        "In this part, you will use basic pytorch operations to define the 2D convolution and max pooling operation. "
      ]
    },
    {
      "metadata": {
        "id": "3LV2pEzC-xXy",
        "colab_type": "text"
      },
      "cell_type": "markdown",
      "source": [
        "### YOUR TASK"
      ]
    },
    {
      "metadata": {
        "id": "aYBLt-av-xX0",
        "colab_type": "text"
      },
      "cell_type": "markdown",
      "source": [
        "- implement the forward pass for Conv2D and MaxPool2D\n",
        "- You can only fill in the parts which are specified as \"YOUR CODE HERE\"\n",
        "- You are **NOT** allowed to use the torch.nn module and the conv2d/maxpooling functions in torch.nn.functional"
      ]
    },
    {
      "metadata": {
        "colab_type": "code",
        "id": "K0JLAagD6X4z",
        "colab": {}
      },
      "cell_type": "code",
      "source": [
        "import torch\n",
        "import torch.nn as nn\n",
        "import torch.nn.functional as F"
      ],
      "execution_count": 0,
      "outputs": []
    },
    {
      "metadata": {
        "id": "_5-rdG2d-xX3",
        "colab_type": "code",
        "colab": {}
      },
      "cell_type": "code",
      "source": [
        "class Conv2D(nn.Module):\n",
        "    \n",
        "    def __init__(self, inchannel, outchannel, kernel_size, stride, padding, bias = True):\n",
        "        \n",
        "        super(Conv2D, self).__init__()\n",
        "        \n",
        "        self.inchannel = inchannel\n",
        "        self.outchannel = outchannel\n",
        "        self.kernel_size = kernel_size\n",
        "        self.stride = stride\n",
        "        self.padding = padding\n",
        "        \n",
        "        self.weights = nn.Parameter(torch.Tensor(outchannel, inchannel, \n",
        "                                                 kernel_size, kernel_size))\n",
        "        self.weights.data.normal_(-0.1, 0.1)\n",
        "        \n",
        "        if bias:\n",
        "            self.bias = nn.Parameter(torch.Tensor(outchannel, ))\n",
        "            self.bias.data.normal_(-0.1, 0.1)\n",
        "        else:\n",
        "            self.bias = None\n",
        "            \n",
        "        \n",
        "    def forward(self, x):\n",
        "        \n",
        "        ##############################################################\n",
        "        #                       YOUR CODE HERE                       #       \n",
        "        ##############################################################\n",
        "        hout = ((x.shape[2] + 2 * self.padding - self.kernel_size)\n",
        "                //self.stride)+1\n",
        "        wout = ((x.shape[3] + 2 * self.padding - self.kernel_size)\n",
        "                //self.stride)+1\n",
        "\n",
        "        x_unf = F.unfold(x, kernel_size=self.kernel_size, padding=self.padding\n",
        "                         , stride=self.stride)\n",
        "        if self.bias:\n",
        "            out_unf = (x_unf.transpose(1, 2).matmul(self.weights.view(\n",
        "                       self.weights.size(0), -1).t()).transpose(1, 2))+self.bias.view(-1, 1)\n",
        "        else:\n",
        "            out_unf = (x_unf.transpose(1, 2).matmul(self.weights.view(\n",
        "                       self.weights.size(0), -1).t()).transpose(1, 2))\n",
        "        output = out_unf.view(x.shape[0], self.outchannel, hout, wout)\n",
        "\n",
        "        ##############################################################\n",
        "        #                       END OF YOUR CODE                     #\n",
        "        ##############################################################\n",
        "      \n",
        "        \n",
        "\n",
        "        return output\n",
        "        "
      ],
      "execution_count": 0,
      "outputs": []
    },
    {
      "metadata": {
        "id": "eI_dYNRC-xX5",
        "colab_type": "code",
        "colab": {}
      },
      "cell_type": "code",
      "source": [
        "class MaxPool2D(nn.Module):\n",
        "    \n",
        "    def __init__(self, pooling_size):\n",
        "        # assume pooling_size = kernel_size = stride\n",
        "        \n",
        "        super(MaxPool2D, self).__init__()\n",
        "        \n",
        "        self.pooling_size = pooling_size\n",
        "        \n",
        "\n",
        "    def forward(self, x):\n",
        "     \n",
        "        ##############################################################\n",
        "        #                       YOUR CODE HERE                       #       \n",
        "        ##############################################################\n",
        "        batch_size = x.shape[0]\n",
        "\n",
        "        inchannel = x.shape[1]\n",
        "\n",
        "        x = F.unfold(x,kernel_size=self.pooling_size, stride=self.pooling_size)\n",
        "\n",
        "        x = x.reshape(batch_size,inchannel,self.pooling_size*self.pooling_size,-1)\n",
        "\n",
        "        x = x.max(dim=2)[0]\n",
        "\n",
        "        shape = torch.rand(1)\n",
        "\n",
        "        shape[0] = x.shape[0]*x.shape[1]*x.shape[2]\n",
        "        \n",
        "        shape =torch.sqrt(shape/(batch_size*inchannel))\n",
        "\n",
        "        output = x.reshape(batch_size,inchannel,int(shape),int(shape))\n",
        "      \n",
        "        \n",
        "        ##############################################################\n",
        "        #                       END OF YOUR CODE                     #\n",
        "        ##############################################################\n",
        "                \n",
        "        \n",
        "        return output\n",
        "        "
      ],
      "execution_count": 0,
      "outputs": []
    },
    {
      "metadata": {
        "colab_type": "code",
        "id": "R2bBhs3_6X5H",
        "colab": {}
      },
      "cell_type": "code",
      "source": [
        "# define resnet building blocks\n",
        "\n",
        "class ResidualBlock(nn.Module): \n",
        "    def __init__(self, inchannel, outchannel, stride=1): \n",
        "        \n",
        "        super(ResidualBlock, self).__init__() \n",
        "        \n",
        "        self.left = nn.Sequential(Conv2D(inchannel, outchannel, kernel_size=3, \n",
        "                                         stride=stride, padding=1, bias=False), \n",
        "                                  nn.BatchNorm2d(outchannel), \n",
        "                                  nn.ReLU(inplace=True), \n",
        "                                  Conv2D(outchannel, outchannel, kernel_size=3, \n",
        "                                         stride=1, padding=1, bias=False), \n",
        "                                  nn.BatchNorm2d(outchannel)) \n",
        "        \n",
        "        self.shortcut = nn.Sequential() \n",
        "        \n",
        "        if stride != 1 or inchannel != outchannel: \n",
        "            \n",
        "            self.shortcut = nn.Sequential(Conv2D(inchannel, outchannel, \n",
        "                                                 kernel_size=1, stride=stride, \n",
        "                                                 padding = 0, bias=False), \n",
        "                                          nn.BatchNorm2d(outchannel) ) \n",
        "            \n",
        "    def forward(self, x): \n",
        "        \n",
        "        out = self.left(x) \n",
        "        \n",
        "        out += self.shortcut(x) \n",
        "        \n",
        "        out = F.relu(out) \n",
        "        \n",
        "        return out\n"
      ],
      "execution_count": 0,
      "outputs": []
    },
    {
      "metadata": {
        "colab_type": "code",
        "id": "U-Sa0BAw6X5P",
        "colab": {}
      },
      "cell_type": "code",
      "source": [
        "# define resnet\n",
        "\n",
        "class ResNet(nn.Module):\n",
        "    \n",
        "    def __init__(self, ResidualBlock, num_classes = 10):\n",
        "        \n",
        "        super(ResNet, self).__init__()\n",
        "        \n",
        "        self.inchannel = 64\n",
        "        self.conv1 = nn.Sequential(Conv2D(3, 64, kernel_size = 3, stride = 1,\n",
        "                                            padding = 1, bias = False), \n",
        "                                  nn.BatchNorm2d(64), \n",
        "                                  nn.ReLU())\n",
        "        \n",
        "        self.layer1 = self.make_layer(ResidualBlock, 64, 2, stride = 1)\n",
        "        self.layer2 = self.make_layer(ResidualBlock, 128, 2, stride = 2)\n",
        "        self.layer3 = self.make_layer(ResidualBlock, 256, 2, stride = 2)\n",
        "        self.layer4 = self.make_layer(ResidualBlock, 512, 2, stride = 2)\n",
        "        self.maxpool = MaxPool2D(4)\n",
        "        self.fc = nn.Linear(512, num_classes)\n",
        "        \n",
        "    \n",
        "    def make_layer(self, block, channels, num_blocks, stride):\n",
        "        \n",
        "        strides = [stride] + [1] * (num_blocks - 1)\n",
        "        \n",
        "        layers = []\n",
        "        \n",
        "        for stride in strides:\n",
        "            \n",
        "            layers.append(block(self.inchannel, channels, stride))\n",
        "            \n",
        "            self.inchannel = channels\n",
        "            \n",
        "        return nn.Sequential(*layers)\n",
        "    \n",
        "    \n",
        "    def forward(self, x):\n",
        "        \n",
        "        x = self.conv1(x)\n",
        "        \n",
        "        x = self.layer1(x)\n",
        "        x = self.layer2(x)\n",
        "        x = self.layer3(x)\n",
        "        x = self.layer4(x)\n",
        "        \n",
        "        x = self.maxpool(x)\n",
        "        \n",
        "        x = x.view(x.size(0), -1)\n",
        "        \n",
        "        x = self.fc(x)\n",
        "        \n",
        "        \n",
        "        return x\n",
        "    \n",
        "    \n",
        "def ResNet18():\n",
        "    return ResNet(ResidualBlock)"
      ],
      "execution_count": 0,
      "outputs": []
    },
    {
      "metadata": {
        "id": "yKcl5EfX-xYB",
        "colab_type": "text"
      },
      "cell_type": "markdown",
      "source": [
        "## Part 2 (40 points)"
      ]
    },
    {
      "metadata": {
        "id": "y5X3jzo1-xYC",
        "colab_type": "text"
      },
      "cell_type": "markdown",
      "source": [
        "In this part, you will train the ResNet-18 defined in the previous part on the CIFAR-10 dataset. Code for loading the dataset, training and evaluation are provided. "
      ]
    },
    {
      "metadata": {
        "id": "SDsuvfh2-xYC",
        "colab_type": "text"
      },
      "cell_type": "markdown",
      "source": [
        "### Your Task"
      ]
    },
    {
      "metadata": {
        "id": "NyKiEvDG-xYE",
        "colab_type": "text"
      },
      "cell_type": "markdown",
      "source": [
        "1. Train your network to achieve the best possible test set accuracy after a maximum of 10 epochs of training.\n",
        "\n",
        "2. You can use techniques such as optimal hyper-parameter searching, data pre-processing\n",
        "\n",
        "3. If necessary, you can also use another optimiser\n",
        "\n",
        "4. **Answer the following question:**\n",
        "Given such a network with a large number of trainable parameters, and a training set of a large number of data, what do you think is the best strategy for hyperparameter searching? "
      ]
    },
    {
      "metadata": {
        "id": "1cJmwYJc-xYF",
        "colab_type": "text"
      },
      "cell_type": "markdown",
      "source": [
        "**YOUR ANSWER FOR 2.4 HERE**\n",
        "\n",
        "A:In my opnion, Bayesian Optimisation is the best strategy for hyperparameter searching. Since the strategy will create a proxy model of the true model and train the hyperparameters on a more cheaper proxy model and return a really good result. And Training may be very cheaper compared with other strategies. Besides that, the training cycles is less."
      ]
    },
    {
      "metadata": {
        "colab_type": "code",
        "id": "jx4EjUPa6X5d",
        "outputId": "03a1478a-3d7c-47ae-f564-e3056f78e870",
        "colab": {
          "base_uri": "https://localhost:8080/",
          "height": 70
        }
      },
      "cell_type": "code",
      "source": [
        "import torch.optim as optim\n",
        "from torch.utils.data import DataLoader\n",
        "from torch.utils.data import sampler\n",
        "\n",
        "import torchvision.datasets as dset\n",
        "\n",
        "import numpy as np\n",
        "\n",
        "import torchvision.transforms as T\n",
        "\n",
        "\n",
        "transform = T.ToTensor()\n",
        "\n",
        "\n",
        "# load data\n",
        "\n",
        "NUM_TRAIN = 49000\n",
        "print_every = 100\n",
        "\n",
        "\n",
        "data_dir = './data'\n",
        "cifar10_train = dset.CIFAR10(data_dir, train=True, download=True, transform=transform)\n",
        "loader_train = DataLoader(cifar10_train, batch_size=64, \n",
        "                          sampler=sampler.SubsetRandomSampler(range(NUM_TRAIN)))\n",
        "\n",
        "cifar10_val = dset.CIFAR10(data_dir, train=True, download=True, transform=transform)\n",
        "loader_val = DataLoader(cifar10_val, batch_size=64, \n",
        "                        sampler=sampler.SubsetRandomSampler(range(NUM_TRAIN, 50000)))\n",
        "\n",
        "cifar10_test = dset.CIFAR10(data_dir, train=False, download=True, transform=transform)\n",
        "loader_test = DataLoader(cifar10_test, batch_size=64)\n",
        "\n",
        "\n",
        "USE_GPU = True\n",
        "dtype = torch.float32 \n",
        "\n",
        "if USE_GPU and torch.cuda.is_available():\n",
        "    device = torch.device('cuda')\n",
        "else:\n",
        "    device = torch.device('cpu')"
      ],
      "execution_count": 7,
      "outputs": [
        {
          "output_type": "stream",
          "text": [
            "Downloading https://www.cs.toronto.edu/~kriz/cifar-10-python.tar.gz to ./data/cifar-10-python.tar.gz\n",
            "Files already downloaded and verified\n",
            "Files already downloaded and verified\n"
          ],
          "name": "stdout"
        }
      ]
    },
    {
      "metadata": {
        "colab_type": "code",
        "id": "Lcscd7k66X5s",
        "colab": {}
      },
      "cell_type": "code",
      "source": [
        "def check_accuracy(loader, model):\n",
        "    # function for test accuracy on validation and test set\n",
        "    \n",
        "    if loader.dataset.train:\n",
        "        print('Checking accuracy on validation set')\n",
        "    else:\n",
        "        print('Checking accuracy on test set')   \n",
        "    num_correct = 0\n",
        "    num_samples = 0\n",
        "    model.eval()  # set model to evaluation mode\n",
        "    with torch.no_grad():\n",
        "        for x, y in loader:\n",
        "            x = x.to(device=device, dtype=dtype)  # move to device\n",
        "            y = y.to(device=device, dtype=torch.long)\n",
        "            scores = model(x)\n",
        "            _, preds = scores.max(1)\n",
        "            num_correct += (preds == y).sum()\n",
        "            num_samples += preds.size(0)\n",
        "        acc = float(num_correct) / num_samples\n",
        "        print('Got %d / %d correct (%.2f)' % (num_correct, num_samples, 100 * acc))\n",
        "##############################################################\n",
        "#                       YOUR CODE HERE                       #       \n",
        "##############################################################\n",
        "    return acc\n",
        "##############################################################\n",
        "#                       END OF YOUR CODE                     #\n",
        "##############################################################\n",
        "\n",
        "\n",
        "def train_part(model, optimizer, epochs=1):\n",
        "    \"\"\"\n",
        "    Train a model on CIFAR-10 using the PyTorch Module API.\n",
        "    \n",
        "    Inputs:\n",
        "    - model: A PyTorch Module giving the model to train.\n",
        "    - optimizer: An Optimizer object we will use to train the model\n",
        "    - epochs: (Optional) A Python integer giving the number of epochs to train for\n",
        "    \n",
        "    Returns: Nothing, but prints model accuracies during training.\n",
        "    \"\"\"\n",
        "    model = model.to(device=device)  # move the model parameters to CPU/GPU\n",
        "    for e in range(epochs):\n",
        "        print(len(loader_train))\n",
        "        for t, (x, y) in enumerate(loader_train):\n",
        "            model.train()  # put model to training mode\n",
        "            x = x.to(device=device, dtype=dtype)  # move to device, e.g. GPU\n",
        "            y = y.to(device=device, dtype=torch.long)\n",
        "\n",
        "            scores = model(x)\n",
        "            loss = F.cross_entropy(scores, y)\n",
        "\n",
        "            # Zero out all of the gradients for the variables which the optimizer\n",
        "            # will update.\n",
        "            optimizer.zero_grad()\n",
        "\n",
        "            loss.backward()\n",
        "\n",
        "            # Update the parameters of the model using the gradients\n",
        "            optimizer.step()\n",
        "\n",
        "            if t % print_every == 0:\n",
        "                print('Epoch: %d, Iteration %d, loss = %.4f' % (e, t, loss.item()))\n",
        "                #check_accuracy(loader_val, model)\n",
        "                print()"
      ],
      "execution_count": 0,
      "outputs": []
    },
    {
      "metadata": {
        "id": "L4gYud8Np_MQ",
        "colab_type": "code",
        "colab": {}
      },
      "cell_type": "code",
      "source": [
        "\n",
        "# code for optimising your network performance\n",
        "\n",
        "##############################################################\n",
        "#                       YOUR CODE HERE                       #       \n",
        "##############################################################\n",
        "\n",
        "#setting up the range of all the hyperparameters. using Bayesian Optimisation"
      ],
      "execution_count": 0,
      "outputs": []
    },
    {
      "metadata": {
        "id": "rhsRFm2N0TTH",
        "colab_type": "code",
        "colab": {
          "base_uri": "https://localhost:8080/",
          "height": 598
        },
        "outputId": "f329653b-96b9-4151-bafe-09fd62db43cd"
      },
      "cell_type": "code",
      "source": [
        "!pip install GPy\n",
        "!pip install GPyOpt"
      ],
      "execution_count": 10,
      "outputs": [
        {
          "output_type": "stream",
          "text": [
            "Collecting GPy\n",
            "\u001b[?25l  Downloading https://files.pythonhosted.org/packages/98/7d/e55ffc3b16b68e8b50ccecacec56715bcf49d5c2f204f5ba60374d419611/GPy-1.9.6.tar.gz (873kB)\n",
            "\u001b[K    100% |████████████████████████████████| 880kB 12.5MB/s \n",
            "\u001b[?25hRequirement already satisfied: numpy>=1.7 in /usr/local/lib/python3.6/dist-packages (from GPy) (1.14.6)\n",
            "Requirement already satisfied: scipy>=0.16 in /usr/local/lib/python3.6/dist-packages (from GPy) (1.1.0)\n",
            "Requirement already satisfied: six in /usr/local/lib/python3.6/dist-packages (from GPy) (1.11.0)\n",
            "Collecting paramz>=0.9.0 (from GPy)\n",
            "\u001b[?25l  Downloading https://files.pythonhosted.org/packages/fd/78/b0f0164a32518bfd3b98cb2e149b7a4d5504d13fb503b31a6c59b958ed18/paramz-0.9.4.tar.gz (70kB)\n",
            "\u001b[K    100% |████████████████████████████████| 71kB 26.7MB/s \n",
            "\u001b[?25hRequirement already satisfied: decorator>=4.0.10 in /usr/local/lib/python3.6/dist-packages (from paramz>=0.9.0->GPy) (4.3.2)\n",
            "Building wheels for collected packages: GPy, paramz\n",
            "  Building wheel for GPy (setup.py) ... \u001b[?25ldone\n",
            "\u001b[?25h  Stored in directory: /root/.cache/pip/wheels/97/82/1d/32a361e1ff2b4d9129a60343831dd99cdc74440e2db1c55264\n",
            "  Building wheel for paramz (setup.py) ... \u001b[?25ldone\n",
            "\u001b[?25h  Stored in directory: /root/.cache/pip/wheels/a9/fc/74/3bbd263c43ed98d67343df24cebf0a0ee34afee40d769fda9c\n",
            "Successfully built GPy paramz\n",
            "Installing collected packages: paramz, GPy\n",
            "Successfully installed GPy-1.9.6 paramz-0.9.4\n",
            "Collecting GPyOpt\n",
            "\u001b[?25l  Downloading https://files.pythonhosted.org/packages/9c/40/ca8f080d74d9f4e29069faa944fcfb083e8693b6daaba0f1e4bc65c88650/GPyOpt-1.2.5.tar.gz (55kB)\n",
            "\u001b[K    100% |████████████████████████████████| 61kB 2.4MB/s \n",
            "\u001b[?25hRequirement already satisfied: numpy>=1.7 in /usr/local/lib/python3.6/dist-packages (from GPyOpt) (1.14.6)\n",
            "Requirement already satisfied: scipy>=0.16 in /usr/local/lib/python3.6/dist-packages (from GPyOpt) (1.1.0)\n",
            "Requirement already satisfied: GPy>=1.8 in /usr/local/lib/python3.6/dist-packages (from GPyOpt) (1.9.6)\n",
            "Requirement already satisfied: paramz>=0.9.0 in /usr/local/lib/python3.6/dist-packages (from GPy>=1.8->GPyOpt) (0.9.4)\n",
            "Requirement already satisfied: six in /usr/local/lib/python3.6/dist-packages (from GPy>=1.8->GPyOpt) (1.11.0)\n",
            "Requirement already satisfied: decorator>=4.0.10 in /usr/local/lib/python3.6/dist-packages (from paramz>=0.9.0->GPy>=1.8->GPyOpt) (4.3.2)\n",
            "Building wheels for collected packages: GPyOpt\n",
            "  Building wheel for GPyOpt (setup.py) ... \u001b[?25ldone\n",
            "\u001b[?25h  Stored in directory: /root/.cache/pip/wheels/33/1d/87/dc02440831ba986b1547dd11a7dcd44e893b0527083066d869\n",
            "Successfully built GPyOpt\n",
            "Installing collected packages: GPyOpt\n",
            "Successfully installed GPyOpt-1.2.5\n"
          ],
          "name": "stdout"
        }
      ]
    },
    {
      "metadata": {
        "id": "0ibudNFj0bwf",
        "colab_type": "code",
        "colab": {}
      },
      "cell_type": "code",
      "source": [
        "import GPy\n",
        "import GPyOpt"
      ],
      "execution_count": 0,
      "outputs": []
    },
    {
      "metadata": {
        "colab_type": "code",
        "id": "no8o-2VS6X5y",
        "scrolled": false,
        "colab": {
          "base_uri": "https://localhost:8080/",
          "height": 3026
        },
        "outputId": "d09ddfab-22b1-4692-fcf3-2431991dc793"
      },
      "cell_type": "code",
      "source": [
        "def objective(params):\n",
        "  params = params.squeeze()\n",
        "  model = ResNet18()\n",
        "  optimizer = optim.Adam(model.parameters(),\n",
        "                             lr = params[0], \n",
        "                             weight_decay = params[1],\n",
        "                             eps=params[2],\n",
        "                            betas = (params[3],params[4]))\n",
        "  train_part(model, optimizer, epochs = 10)\n",
        "  acc = check_accuracy(loader_test, model)\n",
        "  loss = 1 - acc\n",
        "  return loss\n",
        "bounds = [{'name':'lr','type':'continuous','domain':(1e-6,1e-1)},\n",
        "          {'name':'weight_decay','type':'continuous','domain':(1e-6,1e-1)},\n",
        "          {'name':'eps','type':'continuous','domain':(1e-6,1e-1)},\n",
        "          {'name':'beta1','type':'discrete','domain':(0.9,0.99)},\n",
        "          {'name':'beta2','type':'discrete','domain':(0.99,0.999)}\n",
        "         ]\n",
        "max_iter = 1\n",
        "myProblem = GPyOpt.methods.BayesianOptimization(objective,bounds)\n",
        "myProblem.run_optimization(max_iter)"
      ],
      "execution_count": 0,
      "outputs": [
        {
          "output_type": "stream",
          "text": [
            "766\n",
            "Epoch: 0, Iteration 0, loss = 2.4162\n",
            "\n",
            "Epoch: 0, Iteration 100, loss = 2.2687\n",
            "\n",
            "Epoch: 0, Iteration 200, loss = 2.1235\n",
            "\n",
            "Epoch: 0, Iteration 300, loss = 2.1184\n",
            "\n",
            "Epoch: 0, Iteration 400, loss = 2.0881\n",
            "\n",
            "Epoch: 0, Iteration 500, loss = 2.1305\n",
            "\n",
            "Epoch: 0, Iteration 600, loss = 2.1580\n",
            "\n",
            "Epoch: 0, Iteration 700, loss = 2.0969\n",
            "\n",
            "766\n",
            "Epoch: 1, Iteration 0, loss = 2.0489\n",
            "\n",
            "Epoch: 1, Iteration 100, loss = 2.1224\n",
            "\n",
            "Epoch: 1, Iteration 200, loss = 2.2122\n",
            "\n",
            "Epoch: 1, Iteration 300, loss = 2.0893\n",
            "\n",
            "Epoch: 1, Iteration 400, loss = 2.1866\n",
            "\n",
            "Epoch: 1, Iteration 500, loss = 2.1285\n",
            "\n",
            "Epoch: 1, Iteration 600, loss = 2.2013\n",
            "\n",
            "Epoch: 1, Iteration 700, loss = 2.1092\n",
            "\n",
            "766\n",
            "Epoch: 2, Iteration 0, loss = 2.1279\n",
            "\n",
            "Epoch: 2, Iteration 100, loss = 2.0787\n",
            "\n",
            "Epoch: 2, Iteration 200, loss = 2.1064\n",
            "\n",
            "Epoch: 2, Iteration 300, loss = 2.1356\n",
            "\n",
            "Epoch: 2, Iteration 400, loss = 2.0885\n",
            "\n",
            "Epoch: 2, Iteration 500, loss = 2.2121\n",
            "\n",
            "Epoch: 2, Iteration 600, loss = 2.0982\n",
            "\n",
            "Epoch: 2, Iteration 700, loss = 2.1164\n",
            "\n",
            "766\n",
            "Epoch: 3, Iteration 0, loss = 2.1476\n",
            "\n",
            "Epoch: 3, Iteration 100, loss = 1.9912\n",
            "\n",
            "Epoch: 3, Iteration 200, loss = 2.2472\n",
            "\n",
            "Epoch: 3, Iteration 300, loss = 2.1443\n",
            "\n",
            "Epoch: 3, Iteration 400, loss = 2.1605\n",
            "\n",
            "Epoch: 3, Iteration 500, loss = 2.0828\n",
            "\n",
            "Epoch: 3, Iteration 600, loss = 2.2138\n",
            "\n",
            "Epoch: 3, Iteration 700, loss = 2.2079\n",
            "\n",
            "766\n",
            "Epoch: 4, Iteration 0, loss = 2.1784\n",
            "\n",
            "Epoch: 4, Iteration 100, loss = 2.0872\n",
            "\n",
            "Epoch: 4, Iteration 200, loss = 2.0689\n",
            "\n",
            "Epoch: 4, Iteration 300, loss = 2.1816\n",
            "\n",
            "Epoch: 4, Iteration 400, loss = 2.1239\n",
            "\n",
            "Epoch: 4, Iteration 500, loss = 2.1275\n",
            "\n",
            "Epoch: 4, Iteration 600, loss = 2.2431\n",
            "\n",
            "Epoch: 4, Iteration 700, loss = 2.1810\n",
            "\n",
            "766\n",
            "Epoch: 5, Iteration 0, loss = 2.1679\n",
            "\n",
            "Epoch: 5, Iteration 100, loss = 2.1944\n",
            "\n",
            "Epoch: 5, Iteration 200, loss = 2.2247\n",
            "\n",
            "Epoch: 5, Iteration 300, loss = 2.2196\n",
            "\n",
            "Epoch: 5, Iteration 400, loss = 2.0948\n",
            "\n",
            "Epoch: 5, Iteration 500, loss = 2.1817\n",
            "\n",
            "Epoch: 5, Iteration 600, loss = 2.3042\n",
            "\n",
            "Epoch: 5, Iteration 700, loss = 2.3088\n",
            "\n",
            "766\n",
            "Epoch: 6, Iteration 0, loss = 2.3059\n",
            "\n",
            "Epoch: 6, Iteration 100, loss = 2.3115\n",
            "\n",
            "Epoch: 6, Iteration 200, loss = 2.3039\n",
            "\n",
            "Epoch: 6, Iteration 300, loss = 2.3085\n",
            "\n",
            "Epoch: 6, Iteration 400, loss = 2.2983\n",
            "\n",
            "Epoch: 6, Iteration 500, loss = 2.2940\n",
            "\n",
            "Epoch: 6, Iteration 600, loss = 2.2989\n",
            "\n",
            "Epoch: 6, Iteration 700, loss = 2.3041\n",
            "\n",
            "766\n",
            "Epoch: 7, Iteration 0, loss = 2.3059\n",
            "\n",
            "Epoch: 7, Iteration 100, loss = 2.2997\n",
            "\n",
            "Epoch: 7, Iteration 200, loss = 2.3086\n",
            "\n",
            "Epoch: 7, Iteration 300, loss = 2.2972\n",
            "\n",
            "Epoch: 7, Iteration 400, loss = 2.2965\n",
            "\n",
            "Epoch: 7, Iteration 500, loss = 2.3075\n",
            "\n",
            "Epoch: 7, Iteration 600, loss = 2.2938\n",
            "\n",
            "Epoch: 7, Iteration 700, loss = 2.3044\n",
            "\n",
            "766\n",
            "Epoch: 8, Iteration 0, loss = 2.3007\n",
            "\n",
            "Epoch: 8, Iteration 100, loss = 2.3118\n",
            "\n",
            "Epoch: 8, Iteration 200, loss = 2.3089\n",
            "\n",
            "Epoch: 8, Iteration 300, loss = 2.3101\n",
            "\n",
            "Epoch: 8, Iteration 400, loss = 2.3049\n",
            "\n",
            "Epoch: 8, Iteration 500, loss = 2.3023\n",
            "\n",
            "Epoch: 8, Iteration 600, loss = 2.2989\n",
            "\n",
            "Epoch: 8, Iteration 700, loss = 2.3029\n",
            "\n",
            "766\n",
            "Epoch: 9, Iteration 0, loss = 2.3112\n",
            "\n",
            "Epoch: 9, Iteration 100, loss = 2.3032\n",
            "\n",
            "Epoch: 9, Iteration 200, loss = 2.2983\n",
            "\n",
            "Epoch: 9, Iteration 300, loss = 2.3000\n",
            "\n",
            "Epoch: 9, Iteration 400, loss = 2.3021\n",
            "\n",
            "Epoch: 9, Iteration 500, loss = 2.3086\n",
            "\n",
            "Epoch: 9, Iteration 600, loss = 2.3052\n",
            "\n",
            "Epoch: 9, Iteration 700, loss = 2.3084\n",
            "\n",
            "Checking accuracy on test set\n"
          ],
          "name": "stdout"
        }
      ]
    },
    {
      "metadata": {
        "id": "OG53dTrn00NK",
        "colab_type": "code",
        "colab": {}
      },
      "cell_type": "code",
      "source": [
        "print(\"Best Hyperparameters: \", myProblem.x_opt)\n",
        "print(\"Best Accuracy: \",myProblem.fx_opt)\n",
        "myProblem.plot_convergence()\n",
        "##############################################################\n",
        "#                       END OF YOUR CODE HERE                       #       \n",
        "##############################################################\n",
        "\n",
        "\n",
        "# define and train the network\n",
        "\n",
        "# model = ResNet18()\n",
        "\n",
        "# optimizer = optim.Adam(model.parameters())\n",
        "\n",
        "# train_part(model, optimizer, epochs = 10)\n",
        "\n",
        "\n",
        "# report test set accuracy\n",
        "\n",
        "# check_accuracy(loader_test, model)\n",
        "\n",
        "\n",
        "# save the model\n",
        "# torch.save(model.state_dict(), 'model.pt')"
      ],
      "execution_count": 0,
      "outputs": []
    },
    {
      "metadata": {
        "colab_type": "code",
        "id": "A4tlP5xvDhM9",
        "colab": {}
      },
      "cell_type": "code",
      "source": [
        "## Part 3 (20 points)"
      ],
      "execution_count": 0,
      "outputs": []
    },
    {
      "metadata": {
        "id": "vmVxPYmk-xYW",
        "colab_type": "text"
      },
      "cell_type": "markdown",
      "source": [
        "The code provided below will allow you to visualise the feature maps computed by different layers of your network. Run the code (install matplotlib if necessary) and **answer the following questions**: \n",
        "\n",
        "1. Compare the feature maps from low-level layers to high-level layers, what do you observe? \n",
        "\n",
        "2. Use the training log, reported test set accuracy and the feature maps, analyse the performance of your network. If you think the performance is sufficiently good, explain why; if not, what might be the problem and how can you improve the performance?\n",
        "\n",
        "3. What are the other possible ways to analyse the performance of your network?"
      ]
    },
    {
      "metadata": {
        "id": "ICbtFNag-xYX",
        "colab_type": "text"
      },
      "cell_type": "markdown",
      "source": [
        "**YOUR ANSWER FOR PART 3 HERE**\n",
        "\n",
        "1: the number of feature maps increases from low-level layers to high-level layers. And the low-level feature maps tends to be simpler like edge detection, etc, while the high level feature maps are more complex and begin to demonstrate the real features.\n",
        "\n",
        "2:\n",
        "\n",
        "3: Confusion Matrix, Precision, Recall, Specificity, F1 Score"
      ]
    },
    {
      "metadata": {
        "id": "ZgiLTtPO-xYY",
        "colab_type": "code",
        "colab": {}
      },
      "cell_type": "code",
      "source": [
        "#!pip install matplotlib\n",
        "\n",
        "import matplotlib.pyplot as plt\n",
        "\n",
        "plt.tight_layout()\n",
        "\n",
        "\n",
        "activation = {}\n",
        "def get_activation(name):\n",
        "    def hook(model, input, output):\n",
        "        activation[name] = output.detach()\n",
        "    return hook\n",
        "\n",
        "vis_labels = ['conv1', 'layer1', 'layer2', 'layer3', 'layer4']\n",
        "\n",
        "for l in vis_labels:\n",
        "\n",
        "    getattr(model, l).register_forward_hook(get_activation(l))\n",
        "    \n",
        "    \n",
        "data, _ = cifar10_test[0]\n",
        "data = data.unsqueeze_(0).to(device = device, dtype = dtype)\n",
        "\n",
        "output = model(data)\n",
        "\n",
        "\n",
        "\n",
        "for idx, l in enumerate(vis_labels):\n",
        "\n",
        "    act = activation[l].squeeze()\n",
        "\n",
        "    if idx < 2:\n",
        "        ncols = 8\n",
        "    else:\n",
        "        ncols = 32\n",
        "        \n",
        "    nrows = act.size(0) // ncols\n",
        "    \n",
        "    fig, axarr = plt.subplots(nrows, ncols)\n",
        "    fig.suptitle(l)\n",
        "\n",
        "\n",
        "    for i in range(nrows):\n",
        "        for j in range(ncols):\n",
        "            axarr[i, j].imshow(act[i * nrows + j].cpu())\n",
        "            axarr[i, j].axis('off')"
      ],
      "execution_count": 0,
      "outputs": []
    },
    {
      "metadata": {
        "id": "r9I7LtjB-xYe",
        "colab_type": "text"
      },
      "cell_type": "markdown",
      "source": [
        "**=============== END OF CW2 ===============**"
      ]
    }
  ]
}